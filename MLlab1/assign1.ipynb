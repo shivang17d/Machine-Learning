{
 "cells": [
  {
   "cell_type": "code",
   "execution_count": 1,
   "id": "9232c370",
   "metadata": {},
   "outputs": [
    {
     "name": "stdout",
     "output_type": "stream",
     "text": [
      "   Unnamed: 0  Age  Sex     ChestPain  RestBP  Chol  Fbs  RestECG  MaxHR  \\\n",
      "0           1   63    1       typical     145   233    1        2    150   \n",
      "1           2   67    1  asymptomatic     160   286    0        2    108   \n",
      "2           3   67    1  asymptomatic     120   229    0        2    129   \n",
      "3           4   37    1    nonanginal     130   250    0        0    187   \n",
      "4           5   41    0    nontypical     130   204    0        2    172   \n",
      "\n",
      "   ExAng  Oldpeak  Slope   Ca        Thal  AHD  \n",
      "0      0      2.3      3  0.0       fixed   No  \n",
      "1      1      1.5      2  3.0      normal  Yes  \n",
      "2      1      2.6      2  2.0  reversable  Yes  \n",
      "3      0      3.5      3  0.0      normal   No  \n",
      "4      0      1.4      1  0.0      normal   No  \n",
      "\n"
     ]
    }
   ],
   "source": [
    "import pandas as pd\n",
    "import numpy as np\n",
    "import numpy.random as rd\n",
    "df=pd.read_csv('Heart.csv')\n",
    "print(df.head())\n",
    "print()"
   ]
  },
  {
   "cell_type": "code",
   "execution_count": 2,
   "id": "be368d97",
   "metadata": {},
   "outputs": [
    {
     "name": "stdout",
     "output_type": "stream",
     "text": [
      "Shape:(303, 15)\n"
     ]
    }
   ],
   "source": [
    "#Find Shape\n",
    "print(f'Shape:{df.shape}')"
   ]
  },
  {
   "cell_type": "code",
   "execution_count": 3,
   "id": "7786ab99",
   "metadata": {},
   "outputs": [
    {
     "name": "stdout",
     "output_type": "stream",
     "text": [
      "\n",
      "missing Value in Column Unnamed: 0 :0\n",
      "\n",
      "missing Value in Column Age :0\n",
      "\n",
      "missing Value in Column Sex :0\n",
      "\n",
      "missing Value in Column ChestPain :0\n",
      "\n",
      "missing Value in Column RestBP :0\n",
      "\n",
      "missing Value in Column Chol :0\n",
      "\n",
      "missing Value in Column Fbs :0\n",
      "\n",
      "missing Value in Column RestECG :0\n",
      "\n",
      "missing Value in Column MaxHR :0\n",
      "\n",
      "missing Value in Column ExAng :0\n",
      "\n",
      "missing Value in Column Oldpeak :0\n",
      "\n",
      "missing Value in Column Slope :0\n",
      "\n",
      "missing Value in Column Ca :4\n",
      "\n",
      "missing Value in Column Thal :2\n",
      "\n",
      "missing Value in Column AHD :0\n"
     ]
    }
   ],
   "source": [
    "#Missing Values\n",
    "for i in df:\n",
    "    null=df[i].isna().sum()\n",
    "    print(f'\\nmissing Value in Column {i} :{null}',)"
   ]
  },
  {
   "cell_type": "code",
   "execution_count": 4,
   "id": "414018d3",
   "metadata": {},
   "outputs": [
    {
     "name": "stdout",
     "output_type": "stream",
     "text": [
      "\n",
      "Datatypes of Column:\n",
      "Unnamed: 0      int64\n",
      "Age             int64\n",
      "Sex             int64\n",
      "ChestPain      object\n",
      "RestBP          int64\n",
      "Chol            int64\n",
      "Fbs             int64\n",
      "RestECG         int64\n",
      "MaxHR           int64\n",
      "ExAng           int64\n",
      "Oldpeak       float64\n",
      "Slope           int64\n",
      "Ca            float64\n",
      "Thal           object\n",
      "AHD            object\n",
      "dtype: object\n"
     ]
    }
   ],
   "source": [
    "#datatype of Column\n",
    "datatype=df.dtypes\n",
    "print(f'\\nDatatypes of Column:\\n{datatype}')\n"
   ]
  },
  {
   "cell_type": "code",
   "execution_count": 5,
   "id": "c4ba33f3",
   "metadata": {},
   "outputs": [
    {
     "name": "stdout",
     "output_type": "stream",
     "text": [
      "\n",
      "Number of zeros in column Fbs is :258\n",
      "\n",
      "Number of zeros in column restECG is :151\n",
      "\n",
      "Number of zeros in column ExAng is :204\n",
      "\n",
      "Number of zeros in column Ca is :176\n",
      "\n",
      "Number of zeros in column oldpeak is :99\n",
      "\n",
      "Number of zeros in column Slope is :0\n"
     ]
    }
   ],
   "source": [
    "#number of Zeros in column\n",
    "col1=df['Fbs'].value_counts()[0]\n",
    "print(f'\\nNumber of zeros in column Fbs is :{col1}')\n",
    "col2=df['RestECG'].value_counts()[0]\n",
    "print(f'\\nNumber of zeros in column restECG is :{col2}')\n",
    "col3=df['ExAng'].value_counts()[0]\n",
    "print(f'\\nNumber of zeros in column ExAng is :{col3}')\n",
    "col4=df['Ca'].value_counts()[0]\n",
    "print(f'\\nNumber of zeros in column Ca is :{col4}')\n",
    "col5=df['Oldpeak'].value_counts()[0]\n",
    "print(f'\\nNumber of zeros in column oldpeak is :{col5}')\n",
    "col=df['Slope']\n",
    "col6=col[col==0].count()\n",
    "print(f'\\nNumber of zeros in column Slope is :{col6}')"
   ]
  },
  {
   "cell_type": "code",
   "execution_count": 6,
   "id": "27134661",
   "metadata": {},
   "outputs": [
    {
     "name": "stdout",
     "output_type": "stream",
     "text": [
      "\n",
      "Mean of Age:54.43894389438944\n",
      "\n"
     ]
    }
   ],
   "source": [
    "#Mean age of patients\n",
    "mean=df['Age'].mean()\n",
    "print(f'\\nMean of Age:{mean}\\n')"
   ]
  },
  {
   "cell_type": "code",
   "execution_count": 7,
   "id": "32927cfb",
   "metadata": {},
   "outputs": [
    {
     "name": "stdout",
     "output_type": "stream",
     "text": [
      "\n",
      "Dataset df \n",
      "\n",
      "     Unnamed: 0  Age  Sex     ChestPain  RestBP  Chol  Fbs  RestECG  MaxHR  \\\n",
      "200         201   50    0  asymptomatic     110   254    0        2    159   \n",
      "62           63   58    1  asymptomatic     128   216    0        2    131   \n",
      "249         250   62    1    nontypical     128   208    1        2    140   \n",
      "170         171   70    1    nonanginal     160   269    0        0    112   \n",
      "197         198   45    0  asymptomatic     138   236    0        2    152   \n",
      "..          ...  ...  ...           ...     ...   ...  ...      ...    ...   \n",
      "298         299   45    1       typical     110   264    0        0    132   \n",
      "14           15   52    1    nonanginal     172   199    1        0    162   \n",
      "123         124   55    1  asymptomatic     140   217    0        0    111   \n",
      "269         270   42    1    nonanginal     130   180    0        0    150   \n",
      "294         295   63    0  asymptomatic     124   197    0        0    136   \n",
      "\n",
      "     ExAng  Oldpeak  Slope   Ca        Thal  AHD  \n",
      "200      0      0.0      1  0.0      normal   No  \n",
      "62       1      2.2      2  3.0  reversable  Yes  \n",
      "249      0      0.0      1  0.0      normal   No  \n",
      "170      1      2.9      2  1.0  reversable  Yes  \n",
      "197      1      0.2      2  0.0      normal   No  \n",
      "..     ...      ...    ...  ...         ...  ...  \n",
      "298      0      1.2      2  0.0  reversable  Yes  \n",
      "14       0      0.5      1  0.0  reversable   No  \n",
      "123      1      5.6      3  0.0  reversable  Yes  \n",
      "269      0      0.0      1  0.0      normal   No  \n",
      "294      1      0.0      2  0.0      normal  Yes  \n",
      "\n",
      "[227 rows x 15 columns]\n",
      "     Unnamed: 0  Age  Sex     ChestPain  RestBP  Chol  Fbs  RestECG  MaxHR  \\\n",
      "2             3   67    1  asymptomatic     120   229    0        2    129   \n",
      "6             7   62    0  asymptomatic     140   268    0        2    160   \n",
      "9            10   53    1  asymptomatic     140   203    1        2    155   \n",
      "12           13   56    1    nonanginal     130   256    1        2    142   \n",
      "15           16   57    1    nonanginal     150   168    0        0    174   \n",
      "..          ...  ...  ...           ...     ...   ...  ...      ...    ...   \n",
      "287         288   58    1    nontypical     125   220    0        0    144   \n",
      "291         292   55    0    nontypical     132   342    0        0    166   \n",
      "293         294   63    1  asymptomatic     140   187    0        2    144   \n",
      "297         298   57    0  asymptomatic     140   241    0        0    123   \n",
      "301         302   57    0    nontypical     130   236    0        2    174   \n",
      "\n",
      "     ExAng  Oldpeak  Slope   Ca        Thal  AHD  \n",
      "2        1      2.6      2  2.0  reversable  Yes  \n",
      "6        0      3.6      3  2.0      normal  Yes  \n",
      "9        1      3.1      3  0.0  reversable  Yes  \n",
      "12       1      0.6      2  1.0       fixed  Yes  \n",
      "15       0      1.6      1  0.0      normal   No  \n",
      "..     ...      ...    ...  ...         ...  ...  \n",
      "287      0      0.4      2  NaN  reversable   No  \n",
      "291      0      1.2      1  0.0      normal   No  \n",
      "293      1      4.0      1  2.0  reversable  Yes  \n",
      "297      1      0.2      2  0.0  reversable  Yes  \n",
      "301      0      0.0      2  1.0      normal  Yes  \n",
      "\n",
      "[76 rows x 15 columns]\n"
     ]
    }
   ],
   "source": [
    "#Divide dataset in 75% and 25% randomly\n",
    "print(\"\\nDataset df \\n\")\n",
    "train1=df.sample(frac=0.75)\n",
    "test1=df.drop(train1.index)\n",
    "print(train1)\n",
    "print(test1)"
   ]
  },
  {
   "cell_type": "code",
   "execution_count": 8,
   "id": "5e9b741e",
   "metadata": {},
   "outputs": [
    {
     "name": "stdout",
     "output_type": "stream",
     "text": [
      "\n",
      "Set 1\n",
      "    Age  Sex     ChestPain  RestBP  Chol\n",
      "0   63    1       typical     145   233\n",
      "1   67    1  asymptomatic     160   286\n",
      "2   67    1  asymptomatic     120   229\n",
      "3   37    1    nonanginal     130   250\n",
      "4   41    0    nontypical     130   204\n"
     ]
    }
   ],
   "source": [
    "#df contain columns [age,sex,chestpain,restbp,chol]\n",
    "set1=df[['Age','Sex','ChestPain','RestBP','Chol']]\n",
    "print('\\nSet 1\\n',set1.head())"
   ]
  },
  {
   "cell_type": "code",
   "execution_count": 9,
   "id": "c548d029",
   "metadata": {},
   "outputs": [
    {
     "name": "stdout",
     "output_type": "stream",
     "text": [
      "\n",
      "Dataset set1 \n",
      "\n",
      "     Age  Sex     ChestPain  RestBP  Chol\n",
      "277   39    0    nonanginal     138   220\n",
      "235   54    1  asymptomatic     122   286\n",
      "107   57    1    nonanginal     128   229\n",
      "278   57    1    nontypical     154   232\n",
      "145   47    1    nonanginal     108   243\n",
      "..   ...  ...           ...     ...   ...\n",
      "30    69    0       typical     140   239\n",
      "179   53    1    nonanginal     130   246\n",
      "58    54    1    nonanginal     125   273\n",
      "121   63    0  asymptomatic     150   407\n",
      "242   49    0  asymptomatic     130   269\n",
      "\n",
      "[227 rows x 5 columns]\n",
      "     Age  Sex     ChestPain  RestBP  Chol\n",
      "2     67    1  asymptomatic     120   229\n",
      "6     62    0  asymptomatic     140   268\n",
      "9     53    1  asymptomatic     140   203\n",
      "12    56    1    nonanginal     130   256\n",
      "15    57    1    nonanginal     150   168\n",
      "..   ...  ...           ...     ...   ...\n",
      "287   58    1    nontypical     125   220\n",
      "291   55    0    nontypical     132   342\n",
      "293   63    1  asymptomatic     140   187\n",
      "297   57    0  asymptomatic     140   241\n",
      "301   57    0    nontypical     130   236\n",
      "\n",
      "[76 rows x 5 columns]\n"
     ]
    }
   ],
   "source": [
    "#divide above df (set 1) into 75% and 25% randomly\n",
    "print(\"\\nDataset set1 \\n\")\n",
    "train2=set1.sample(frac=0.75)\n",
    "test2=set1.drop(train1.index)\n",
    "print(train2)\n",
    "print(test2)"
   ]
  },
  {
   "cell_type": "code",
   "execution_count": null,
   "id": "f8399ef8",
   "metadata": {},
   "outputs": [],
   "source": []
  }
 ],
 "metadata": {
  "kernelspec": {
   "display_name": "Python 3 (ipykernel)",
   "language": "python",
   "name": "python3"
  },
  "language_info": {
   "codemirror_mode": {
    "name": "ipython",
    "version": 3
   },
   "file_extension": ".py",
   "mimetype": "text/x-python",
   "name": "python",
   "nbconvert_exporter": "python",
   "pygments_lexer": "ipython3",
   "version": "3.9.1"
  }
 },
 "nbformat": 4,
 "nbformat_minor": 5
}
